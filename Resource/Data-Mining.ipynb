{
 "cells": [
  {
   "cell_type": "markdown",
   "metadata": {},
   "source": [
    "# Xây dựng mô hình hồi quy dự đoán Doanh số của 1 dòng sản phẩm Khi có 1 dòng sản phẩm mới "
   ]
  },
  {
   "cell_type": "markdown",
   "metadata": {},
   "source": [
    "## EDA "
   ]
  },
  {
   "cell_type": "code",
   "execution_count": 2,
   "metadata": {},
   "outputs": [
    {
     "name": "stderr",
     "output_type": "stream",
     "text": [
      "C:\\Users\\water\\AppData\\Local\\Temp\\ipykernel_11744\\3984690518.py:31: UserWarning: pandas only supports SQLAlchemy connectable (engine/connection) or database string URI or sqlite3 DBAPI2 connection. Other DBAPI2 objects are not tested. Please consider using SQLAlchemy.\n",
      "  df = pd.read_sql(sql_query, conn)\n"
     ]
    }
   ],
   "source": [
    "import pandas as pd\n",
    "import pyodbc\n",
    "from sklearn.linear_model import LinearRegression\n",
    "\n",
    "server = 'WATERMELONX86'\n",
    "database = 'DDSDA'\n",
    "trusted_connection = 'yes'\n",
    "\n",
    "conn_str = (\n",
    "    f'DRIVER={{SQL Server}};'\n",
    "    f'SERVER={server};'\n",
    "    f'DATABASE={database};'\n",
    "    f'Trusted_Connection={trusted_connection};'\n",
    ")\n",
    "\n",
    "conn = pyodbc.connect(conn_str)\n",
    "sql_query = \"\"\"\n",
    "SELECT\n",
    "    p.ProductLineId,\n",
    "    SUM(f.Quantity) AS total_quantity,\n",
    "\tAVG(p.UnitPrice) as average_unit_price,\n",
    "    AVG(f.Rating) AS average_rating,\n",
    "\tSUM(f.GrossIncome) as Total_income,\n",
    "    SUM(f.Total) AS total_sales\n",
    "FROM Fact_Sales f\n",
    "INNER JOIN Dim_Product p ON f.Product_Key = p.Product_SK\n",
    "GROUP BY\n",
    "    p.ProductLineId\n",
    "ORDER BY p.ProductLineId\n",
    "\"\"\"\n",
    "df = pd.read_sql(sql_query, conn)\n",
    "conn.close()\n"
   ]
  },
  {
   "cell_type": "markdown",
   "metadata": {},
   "source": [
    "Data sau khi EDA"
   ]
  },
  {
   "cell_type": "code",
   "execution_count": 3,
   "metadata": {},
   "outputs": [
    {
     "data": {
      "text/html": [
       "<div>\n",
       "<style scoped>\n",
       "    .dataframe tbody tr th:only-of-type {\n",
       "        vertical-align: middle;\n",
       "    }\n",
       "\n",
       "    .dataframe tbody tr th {\n",
       "        vertical-align: top;\n",
       "    }\n",
       "\n",
       "    .dataframe thead th {\n",
       "        text-align: right;\n",
       "    }\n",
       "</style>\n",
       "<table border=\"1\" class=\"dataframe\">\n",
       "  <thead>\n",
       "    <tr style=\"text-align: right;\">\n",
       "      <th></th>\n",
       "      <th>ProductLineId</th>\n",
       "      <th>total_quantity</th>\n",
       "      <th>average_unit_price</th>\n",
       "      <th>average_rating</th>\n",
       "      <th>Total_income</th>\n",
       "      <th>total_sales</th>\n",
       "    </tr>\n",
       "  </thead>\n",
       "  <tbody>\n",
       "    <tr>\n",
       "      <th>0</th>\n",
       "      <td>PD001</td>\n",
       "      <td>826</td>\n",
       "      <td>56.0149</td>\n",
       "      <td>6.901961</td>\n",
       "      <td>2183.3855</td>\n",
       "      <td>45851.0955</td>\n",
       "    </tr>\n",
       "    <tr>\n",
       "      <th>1</th>\n",
       "      <td>PD002</td>\n",
       "      <td>918</td>\n",
       "      <td>56.2830</td>\n",
       "      <td>6.968452</td>\n",
       "      <td>2557.7365</td>\n",
       "      <td>53712.4665</td>\n",
       "    </tr>\n",
       "    <tr>\n",
       "      <th>2</th>\n",
       "      <td>PD003</td>\n",
       "      <td>922</td>\n",
       "      <td>54.3010</td>\n",
       "      <td>7.110588</td>\n",
       "      <td>2464.0280</td>\n",
       "      <td>51744.5880</td>\n",
       "    </tr>\n",
       "    <tr>\n",
       "      <th>3</th>\n",
       "      <td>PD004</td>\n",
       "      <td>1005</td>\n",
       "      <td>55.2208</td>\n",
       "      <td>6.871839</td>\n",
       "      <td>2739.6805</td>\n",
       "      <td>57533.2905</td>\n",
       "    </tr>\n",
       "    <tr>\n",
       "      <th>4</th>\n",
       "      <td>PD005</td>\n",
       "      <td>959</td>\n",
       "      <td>54.9429</td>\n",
       "      <td>7.085465</td>\n",
       "      <td>2939.1710</td>\n",
       "      <td>61722.5910</td>\n",
       "    </tr>\n",
       "    <tr>\n",
       "      <th>5</th>\n",
       "      <td>PD006</td>\n",
       "      <td>962</td>\n",
       "      <td>54.5154</td>\n",
       "      <td>6.843575</td>\n",
       "      <td>2738.4205</td>\n",
       "      <td>57506.8305</td>\n",
       "    </tr>\n",
       "  </tbody>\n",
       "</table>\n",
       "</div>"
      ],
      "text/plain": [
       "  ProductLineId  total_quantity  average_unit_price  average_rating  \\\n",
       "0         PD001             826             56.0149        6.901961   \n",
       "1         PD002             918             56.2830        6.968452   \n",
       "2         PD003             922             54.3010        7.110588   \n",
       "3         PD004            1005             55.2208        6.871839   \n",
       "4         PD005             959             54.9429        7.085465   \n",
       "5         PD006             962             54.5154        6.843575   \n",
       "\n",
       "   Total_income  total_sales  \n",
       "0     2183.3855   45851.0955  \n",
       "1     2557.7365   53712.4665  \n",
       "2     2464.0280   51744.5880  \n",
       "3     2739.6805   57533.2905  \n",
       "4     2939.1710   61722.5910  \n",
       "5     2738.4205   57506.8305  "
      ]
     },
     "execution_count": 3,
     "metadata": {},
     "output_type": "execute_result"
    }
   ],
   "source": [
    "df"
   ]
  },
  {
   "cell_type": "markdown",
   "metadata": {},
   "source": [
    "## Xây dựng và kiểm tra mô hình "
   ]
  },
  {
   "cell_type": "code",
   "execution_count": 6,
   "metadata": {},
   "outputs": [
    {
     "name": "stdout",
     "output_type": "stream",
     "text": [
      "Mean Squared Error: 1.6038697984605902e-05\n"
     ]
    }
   ],
   "source": [
    "from sklearn.model_selection import train_test_split\n",
    "from sklearn.metrics import mean_squared_error\n",
    "\n",
    "features = df[[ 'total_quantity', 'average_unit_price', 'average_rating','Total_income']]\n",
    "target = df['total_sales']\n",
    "\n",
    "# Chia dữ liệu thành tập huấn luyện và tập kiểm tra\n",
    "X_train, X_test, y_train, y_test = train_test_split(features, target, test_size=0.2, random_state=42)\n",
    "\n",
    "# Khởi tạo mô hình và huấn luyện\n",
    "model = LinearRegression()\n",
    "model.fit(X_train, y_train)\n",
    "\n",
    "# Dự đoán trên tập kiểm tra\n",
    "y_pred = model.predict(X_test)\n",
    "# Đánh giá mô hình\n",
    "mse = mean_squared_error(y_test, y_pred)\n",
    "print(f'Mean Squared Error: {mse}')\n"
   ]
  },
  {
   "cell_type": "markdown",
   "metadata": {},
   "source": [
    "Với Mean Squared nhỏ tiệm cận bằng 0 có thể thấy mô hình có ý nghĩa thống kê và chính xác cao khi dùng để đánh giá , dự đoán"
   ]
  },
  {
   "cell_type": "markdown",
   "metadata": {},
   "source": [
    "## Dự đoán "
   ]
  },
  {
   "cell_type": "code",
   "execution_count": 7,
   "metadata": {},
   "outputs": [
    {
     "name": "stdout",
     "output_type": "stream",
     "text": [
      "Dự đoán doanh số bán hàng cho dòng sản phẩm mới : 50404.22761535522\n"
     ]
    },
    {
     "name": "stderr",
     "output_type": "stream",
     "text": [
      "c:\\Users\\water\\AppData\\Local\\Programs\\Python\\Python312\\Lib\\site-packages\\sklearn\\base.py:465: UserWarning: X does not have valid feature names, but LinearRegression was fitted with feature names\n",
      "  warnings.warn(\n"
     ]
    }
   ],
   "source": [
    "# Dữ liệu giả định cho dòng sản phẩm mới\n",
    "new_ProductLine = [500, 70.2, 8.0, 2400.2] \n",
    "# Dự đoán \n",
    "sales_prediction = model.predict([new_ProductLine])\n",
    "# In kết quả dự đoán\n",
    "print('Dự đoán doanh số bán hàng cho dòng sản phẩm mới :', sales_prediction[0])"
   ]
  }
 ],
 "metadata": {
  "kernelspec": {
   "display_name": "Python 3",
   "language": "python",
   "name": "python3"
  },
  "language_info": {
   "codemirror_mode": {
    "name": "ipython",
    "version": 3
   },
   "file_extension": ".py",
   "mimetype": "text/x-python",
   "name": "python",
   "nbconvert_exporter": "python",
   "pygments_lexer": "ipython3",
   "version": "3.12.0"
  }
 },
 "nbformat": 4,
 "nbformat_minor": 2
}
